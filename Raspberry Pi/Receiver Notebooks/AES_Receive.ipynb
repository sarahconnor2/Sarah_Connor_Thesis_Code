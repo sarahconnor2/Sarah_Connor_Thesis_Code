{
 "cells": [
  {
   "cell_type": "code",
   "execution_count": 6,
   "metadata": {},
   "outputs": [
    {
     "name": "stdout",
     "output_type": "stream",
     "text": [
      "Ready\n",
      "Collected 100 messages and 100 plaintexts\n",
      "Encryption/Decryption Successful\n",
      "0.273998975754, 0.0454878807068, 0.0522539615631, 0.0555949211121, 0.0649890899658, 0.0755929946899, 0.0859999656677, 0.0651071071625, 0.0695300102234, 0.0784161090851, 0.0792100429535, 0.0582101345062, 0.079087972641, 0.0595309734344, 0.0739898681641, 0.0839381217957, 0.0525588989258, 0.0763759613037, 0.071506023407, 0.0602979660034, 0.0668089389801, 0.0690839290619, 0.0714778900146, 0.0582749843597, 0.0677621364594, 0.0583848953247, 0.0746939182281, 0.0678858757019, 0.0729260444641, 0.0640139579773, 0.0833759307861, 0.0727410316467, 0.0798649787903, 0.0437839031219, 0.0827760696411, 0.0544300079346, 0.0570800304413, 0.0515120029449, 0.0533640384674, 0.0899620056152, 0.0676460266113, 0.0760550498962, 0.0859100818634, 0.0543818473816, 0.0682690143585, 0.0766448974609, 0.0788719654083, 0.058876991272, 0.0721769332886, 0.0808458328247, 0.0669629573822, 0.0759251117706, 0.0721981525421, 0.0672922134399, 0.074599981308, 0.0761971473694, 0.0719790458679, 0.066125869751, 0.0596828460693, 0.0757420063019, 0.0694901943207, 0.0759742259979, 0.050094127655, 0.0676498413086, 0.0757238864899, 0.076534986496, 0.0483748912811, 0.0745420455933, 0.0698828697205, 0.0550858974457, 0.0480329990387, 0.0532698631287, 0.0506439208984, 0.0545079708099, 0.0598180294037, 0.0622129440308, 0.0743999481201, 0.077033996582, 0.077691078186, 0.0857582092285, 0.0610311031342, 0.0710608959198, 0.075012922287, 0.06915807724, 0.0764389038086, 0.0637760162354, 0.0750350952148, 0.0802049636841, 0.0725629329681, 0.0670139789581, 0.0763549804688, 0.0733051300049, 0.0673871040344, 0.0726249217987, 0.0776128768921, 0.0762510299683, 0.0681600570679, 0.074853181839, 0.0815541744232, 0.0740180015564\n"
     ]
    }
   ],
   "source": [
    "#Receives encrypted data (messages) and saves in list, then receives the original \n",
    "#plaintexts and saves in list, then receives the timing data and saves in file. Finally, will check if encryption and \n",
    "#decryption was successful by decrypting the messages and checking if they are equal to the original plaintexts. \n",
    "\n",
    "import socket\n",
    "import import_ipynb\n",
    "from Encrypt_Decrypt_Functions import *\n",
    "from Key128 import key\n",
    "\n",
    "\n",
    "MessageList = []\n",
    "DecryptedList = []\n",
    "PlainTextList = []\n",
    "message_number = 0\n",
    "plaintext_number = 0\n",
    "\n",
    "UDP_IP = \"10.1.1.154\"\n",
    "UDP_PORT = 5005\n",
    "\n",
    "sock = socket.socket(socket.AF_INET, # Internet\n",
    "                    socket.SOCK_DGRAM) # UDP\n",
    "sock.bind((UDP_IP, UDP_PORT))\n",
    "\n",
    "print(\"Ready\")\n",
    "\n",
    "while (True):\n",
    "    data, addr = sock.recvfrom(12300)\n",
    "    if(len(data)==144):\n",
    "        #Ciphertexts\n",
    "        MessageList.append(data)\n",
    "        message_number = message_number + 1\n",
    "    elif(len(data)==123):\n",
    "        #Plaintexts\n",
    "        PlainTextList.append(data)\n",
    "        plaintext_number = plaintext_number + 1\n",
    "    else:\n",
    "        #Times\n",
    "        times = data.decode('utf-8')\n",
    "        break\n",
    "        \n",
    "print(\"Collected \" + str(message_number) + \" messages and \" + str(plaintext_number) + \" plaintexts\")\n",
    "\n",
    "for x in range(0, 100):\n",
    "    message = MessageList[x]\n",
    "    iv = message[:16]\n",
    "    ciphertext = message[16:]\n",
    "    decrypted_message = AESDecrypt(ciphertext, key, iv)\n",
    "    DecryptedList.append(decrypted_message)\n",
    "\n",
    "if(PlainTextList == DecryptedList):\n",
    "    print(\"Encryption/Decryption Successful\")\n",
    "\n",
    "else:\n",
    "    print(\"WARNING: Encryption/Decryption Unsuccessful!\")\n",
    "\n",
    "print(times)\n",
    "\n",
    "f = open(\"AES_SensingLoad_Pi.txt\", \"x\")\n",
    "f.write(times)\n",
    "f.close()\n",
    "    \n",
    "    "
   ]
  }
 ],
 "metadata": {
  "kernelspec": {
   "display_name": "Python 3",
   "language": "python",
   "name": "python3"
  },
  "language_info": {
   "codemirror_mode": {
    "name": "ipython",
    "version": 3
   },
   "file_extension": ".py",
   "mimetype": "text/x-python",
   "name": "python",
   "nbconvert_exporter": "python",
   "pygments_lexer": "ipython3",
   "version": "3.6.4"
  },
  "toc": {
   "base_numbering": 1,
   "nav_menu": {},
   "number_sections": true,
   "sideBar": true,
   "skip_h1_title": false,
   "title_cell": "Table of Contents",
   "title_sidebar": "Contents",
   "toc_cell": false,
   "toc_position": {},
   "toc_section_display": true,
   "toc_window_display": false
  }
 },
 "nbformat": 4,
 "nbformat_minor": 2
}
