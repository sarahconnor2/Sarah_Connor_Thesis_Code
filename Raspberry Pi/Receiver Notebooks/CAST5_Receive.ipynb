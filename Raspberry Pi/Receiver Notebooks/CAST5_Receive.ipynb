{
 "cells": [
  {
   "cell_type": "code",
   "execution_count": 5,
   "metadata": {},
   "outputs": [
    {
     "name": "stdout",
     "output_type": "stream",
     "text": [
      "Ready\n",
      "Collected 100 messages and 100 plaintexts\n",
      "Encryption/Decryption Successful\n",
      "12.8568990231, 0.162185907364, 0.0813431739807, 0.0730018615723, 0.0778520107269, 0.0866401195526, 0.0755128860474, 0.0852150917053, 0.079097032547, 0.0783729553223, 0.0836389064789, 0.0768890380859, 0.0831758975983, 0.115402936935, 0.0737659931183, 0.106770038605, 0.0768299102783, 0.0780460834503, 0.0797731876373, 0.0805308818817, 0.0841150283813, 0.0807859897614, 0.0771389007568, 0.0864419937134, 0.072732925415, 0.0782330036163, 0.0775990486145, 0.0804080963135, 0.0775570869446, 0.0822079181671, 0.082328081131, 0.0731580257416, 0.0844550132751, 0.063805103302, 0.063679933548, 0.0624160766602, 0.083997964859, 0.0941359996796, 0.0940380096436, 0.0826380252838, 0.0772759914398, 0.0866670608521, 0.0723209381104, 0.0791099071503, 0.0851781368256, 0.0821259021759, 0.0744709968567, 0.0830969810486, 0.0760128498077, 0.0802230834961, 0.0869197845459, 0.07386302948, 0.0846209526062, 0.0794858932495, 0.0783867835999, 0.124454021454, 0.081386089325, 0.0988681316376, 0.076807975769, 0.0868911743164, 0.0764589309692, 0.0836000442505, 0.0792260169983, 0.0802519321442, 0.0795512199402, 0.0801861286163, 0.0842361450195, 0.0761699676514, 0.0685188770294, 0.0628480911255, 0.0645699501038, 0.0707287788391, 0.0856311321259, 0.0748858451843, 0.0717811584473, 0.086727142334, 0.0779709815979, 0.0802800655365, 0.0787839889526, 0.0806469917297, 0.0856359004974, 0.0906980037689, 0.124487876892, 0.102527141571, 0.0814700126648, 0.070338010788, 0.0740880966187, 0.0867600440979, 0.0788848400116, 0.0763521194458, 0.080363035202, 0.0789730548859, 0.081197977066, 0.0804870128632, 0.0818219184875, 0.0824589729309, 0.0827589035034, 0.0758049488068, 0.0791759490967, 0.0833139419556\n"
     ]
    }
   ],
   "source": [
    "#Receives encrypted data (messages) and saves in list, then receives the original \n",
    "#plaintexts and saves in list, then receives the timing data and saves in file. Finally, will check if encryption and \n",
    "#decryption was successful by decrypting the messages and checking if they are equal to the original plaintexts. \n",
    "\n",
    "import socket\n",
    "import import_ipynb\n",
    "from Encrypt_Decrypt_Functions import *\n",
    "from Key128 import key\n",
    "\n",
    "MessageList = []\n",
    "DecryptedList = []\n",
    "PlainTextList = []\n",
    "message_number = 0\n",
    "plaintext_number = 0\n",
    "\n",
    "UDP_IP = \"10.1.1.154\"\n",
    "UDP_PORT = 5005\n",
    "\n",
    "sock = socket.socket(socket.AF_INET, # Internet\n",
    "                    socket.SOCK_DGRAM) # UDP\n",
    "sock.bind((UDP_IP, UDP_PORT))\n",
    "\n",
    "print(\"Ready\")\n",
    "\n",
    "while (True):\n",
    "    data, addr = sock.recvfrom(12300)\n",
    "    if(len(data)==136):\n",
    "        #Ciphertexts\n",
    "        MessageList.append(data)\n",
    "        message_number = message_number + 1\n",
    "    elif(len(data)==123):\n",
    "        #Plaintexts\n",
    "        PlainTextList.append(data)\n",
    "        plaintext_number = plaintext_number + 1\n",
    "    else:\n",
    "        #Times\n",
    "        times = data.decode('utf-8')\n",
    "        break\n",
    "        \n",
    "print(\"Collected \" + str(message_number) + \" messages and \" + str(plaintext_number) + \" plaintexts\")\n",
    "\n",
    "for x in range(0, 100):\n",
    "    message = MessageList[x]\n",
    "    iv = message[:8]\n",
    "    ciphertext = message[8:]\n",
    "    decrypted_message = CAST5Decrypt(ciphertext, key, iv)\n",
    "    DecryptedList.append(decrypted_message)\n",
    "\n",
    "if(PlainTextList == DecryptedList):\n",
    "    print(\"Encryption/Decryption Successful\")\n",
    "\n",
    "else:\n",
    "    print(\"WARNING: Encryption/Decryption Unsuccessful!\")\n",
    "\n",
    "print(times)\n",
    "\n",
    "f = open(\"CAST5_MessagingLoad_Pi.txt\", \"x\")\n",
    "f.write(times)\n",
    "f.close()\n",
    "    \n",
    "    "
   ]
  },
  {
   "cell_type": "code",
   "execution_count": null,
   "metadata": {},
   "outputs": [],
   "source": []
  },
  {
   "cell_type": "code",
   "execution_count": null,
   "metadata": {},
   "outputs": [],
   "source": []
  }
 ],
 "metadata": {
  "kernelspec": {
   "display_name": "Python 3",
   "language": "python",
   "name": "python3"
  },
  "language_info": {
   "codemirror_mode": {
    "name": "ipython",
    "version": 3
   },
   "file_extension": ".py",
   "mimetype": "text/x-python",
   "name": "python",
   "nbconvert_exporter": "python",
   "pygments_lexer": "ipython3",
   "version": "3.6.4"
  },
  "toc": {
   "base_numbering": 1,
   "nav_menu": {},
   "number_sections": true,
   "sideBar": true,
   "skip_h1_title": false,
   "title_cell": "Table of Contents",
   "title_sidebar": "Contents",
   "toc_cell": false,
   "toc_position": {},
   "toc_section_display": true,
   "toc_window_display": false
  }
 },
 "nbformat": 4,
 "nbformat_minor": 2
}
