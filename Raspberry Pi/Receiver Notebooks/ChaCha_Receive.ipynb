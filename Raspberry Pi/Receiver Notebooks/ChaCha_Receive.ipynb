{
 "cells": [
  {
   "cell_type": "code",
   "execution_count": 7,
   "metadata": {},
   "outputs": [
    {
     "name": "stdout",
     "output_type": "stream",
     "text": [
      "Ready\n",
      "Collected 100 messages and 100 plaintexts\n",
      "Encryption/Decryption Successful\n",
      "0.365703105927, 0.165628194809, 0.0968430042267, 0.0900158882141, 0.0887520313263, 0.0902650356293, 0.0692501068115, 0.0711660385132, 0.0601739883423, 0.0784318447113, 0.0817329883575, 0.0913169384003, 0.0798268318176, 0.0922601222992, 0.0757031440735, 0.0841000080109, 0.0857191085815, 0.0871369838715, 0.0826921463013, 0.0925359725952, 0.0891530513763, 0.0800879001617, 0.138520956039, 0.11697101593, 0.0797560214996, 0.0830600261688, 0.091493844986, 0.0822188854218, 0.0833110809326, 0.0799570083618, 0.095009803772, 0.082396030426, 0.081423997879, 0.0827140808105, 0.0837478637695, 0.0880670547485, 0.079442024231, 0.0894401073456, 0.0786998271942, 0.0665349960327, 0.0666329860687, 0.0656590461731, 0.0834891796112, 0.0805819034576, 0.0851418972015, 0.0800740718842, 0.133183956146, 0.0878479480743, 0.0825498104095, 0.0882070064545, 0.0794739723206, 0.0804579257965, 0.0875058174133, 0.0815291404724, 0.0847849845886, 0.0922009944916, 0.0746870040894, 0.0807271003723, 0.08540391922, 0.0807540416718, 0.0869238376617, 0.0818419456482, 0.0889840126038, 0.0869140625, 0.0901861190796, 0.080512046814, 0.101093053818, 0.116863965988, 0.102521181107, 0.100363016129, 0.0858991146088, 0.122725009918, 0.0860390663147, 0.0863599777222, 0.0952978134155, 0.0801129341125, 0.0809638500214, 0.0604948997498, 0.0687599182129, 0.0688459873199, 0.0715551376343, 0.0950629711151, 0.0732109546661, 0.0859589576721, 0.0859220027924, 0.0835971832275, 0.0900270938873, 0.0806128978729, 0.0903718471527, 0.1047270298, 0.103242874146, 0.105252981186, 0.0961039066315, 0.0853312015533, 0.0841541290283, 0.0953049659729, 0.121751070023, 0.0860230922699, 0.0874619483948, 0.0779881477356\n"
     ]
    }
   ],
   "source": [
    "#Receives encrypted data (messages) and saves in list, then receives the original \n",
    "#plaintexts and saves in list, then receives the timing data and saves in file. Finally, will check if encryption and \n",
    "#decryption was successful by decrypting the messages and checking if they are equal to the original plaintexts. \n",
    "\n",
    "import socket\n",
    "import import_ipynb\n",
    "from Encrypt_Decrypt_Functions import *\n",
    "from Key256 import key\n",
    "\n",
    "MessageList = []\n",
    "DecryptedList = []\n",
    "PlainTextList = []\n",
    "message_number = 0\n",
    "plaintext_number = 0\n",
    "\n",
    "UDP_IP = \"10.1.1.154\"\n",
    "UDP_PORT = 5005\n",
    "\n",
    "sock = socket.socket(socket.AF_INET, # Internet\n",
    "                    socket.SOCK_DGRAM) # UDP\n",
    "sock.bind((UDP_IP, UDP_PORT))\n",
    "\n",
    "print(\"Ready\")\n",
    "\n",
    "while (True):\n",
    "    data, addr = sock.recvfrom(12300)\n",
    "    if(len(data)==151):\n",
    "        #Ciphertexts\n",
    "        MessageList.append(data)\n",
    "        message_number = message_number + 1\n",
    "    elif(len(data)==123):\n",
    "        #Plaintexts\n",
    "        PlainTextList.append(data)\n",
    "        plaintext_number = plaintext_number + 1\n",
    "    else:\n",
    "        #Times\n",
    "        times = data.decode('utf-8')\n",
    "        break\n",
    "        \n",
    "print(\"Collected \" + str(message_number) + \" messages and \" + str(plaintext_number) + \" plaintexts\")\n",
    "\n",
    "for x in range(0, 100):\n",
    "    message = MessageList[x]\n",
    "    nonce = message[:12]\n",
    "    tag = message[12:28]\n",
    "    ciphertext = message[28:]\n",
    "    decrypted_message = ChaChaDecrypt(ciphertext, key, tag, nonce)\n",
    "    DecryptedList.append(decrypted_message)\n",
    "\n",
    "if(PlainTextList == DecryptedList):\n",
    "    print(\"Encryption/Decryption Successful\")\n",
    "\n",
    "else:\n",
    "    print(\"WARNING: Encryption/Decryption Unsuccessful!\")\n",
    "\n",
    "print(times)\n",
    "\n",
    "f = open(\"ChaCha_MessagingLoad_Pi.txt\", \"x\")\n",
    "f.write(times)\n",
    "f.close()\n",
    "    \n",
    "    "
   ]
  },
  {
   "cell_type": "code",
   "execution_count": null,
   "metadata": {},
   "outputs": [],
   "source": []
  }
 ],
 "metadata": {
  "kernelspec": {
   "display_name": "Python 3",
   "language": "python",
   "name": "python3"
  },
  "language_info": {
   "codemirror_mode": {
    "name": "ipython",
    "version": 3
   },
   "file_extension": ".py",
   "mimetype": "text/x-python",
   "name": "python",
   "nbconvert_exporter": "python",
   "pygments_lexer": "ipython3",
   "version": "3.6.4"
  },
  "toc": {
   "base_numbering": 1,
   "nav_menu": {},
   "number_sections": true,
   "sideBar": true,
   "skip_h1_title": false,
   "title_cell": "Table of Contents",
   "title_sidebar": "Contents",
   "toc_cell": false,
   "toc_position": {},
   "toc_section_display": true,
   "toc_window_display": false
  }
 },
 "nbformat": 4,
 "nbformat_minor": 2
}
