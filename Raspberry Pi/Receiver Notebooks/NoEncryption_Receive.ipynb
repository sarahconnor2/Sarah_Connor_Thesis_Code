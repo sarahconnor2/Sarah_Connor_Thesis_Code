{
 "cells": [
  {
   "cell_type": "code",
   "execution_count": 3,
   "metadata": {},
   "outputs": [
    {
     "name": "stdout",
     "output_type": "stream",
     "text": [
      "Ready\n",
      "Received  100  messages\n",
      "1.67219209671, 0.0858659744263, 0.0697011947632, 0.0715508460999, 0.0621111392975, 0.0811669826508, 0.0841341018677, 0.0842518806458, 0.0868008136749, 0.0768189430237, 0.0695519447327, 0.0622930526733, 0.0796339511871, 0.0609011650085, 0.0652639865875, 0.06036901474, 0.0549030303955, 0.0526099205017, 0.0663421154022, 0.0642051696777, 0.0623660087585, 0.0775539875031, 0.0598249435425, 0.0754520893097, 0.065062046051, 0.0613241195679, 0.069412946701, 0.0693428516388, 0.0647869110107, 0.0686330795288, 0.0724248886108, 0.0625550746918, 0.0765450000763, 0.0595939159393, 0.0781989097595, 0.082417011261, 0.0822701454163, 0.0870258808136, 0.0882570743561, 0.0773010253906, 0.0730638504028, 0.061371088028, 0.0563199520111, 0.063178062439, 0.0654091835022, 0.0757579803467, 0.0836129188538, 0.0595149993896, 0.0609700679779, 0.0680329799652, 0.0722930431366, 0.0950281620026, 0.0608811378479, 0.0641458034515, 0.0666239261627, 0.0724008083344, 0.0553810596466, 0.0599069595337, 0.0635731220245, 0.050145149231, 0.0534570217133, 0.0528049468994, 0.0488560199738, 0.0593979358673, 0.0543079376221, 0.063845872879, 0.0660688877106, 0.0592088699341, 0.0685999393463, 0.068176984787, 0.052582025528, 0.062194108963, 0.0483448505402, 0.0340638160706, 0.0285429954529, 0.075658082962, 0.0747981071472, 0.0900599956512, 0.0865478515625, 0.101284980774, 0.0867590904236, 0.0886719226837, 0.0863809585571, 0.0817980766296, 0.0761938095093, 0.0915319919586, 0.0712468624115, 0.0817251205444, 0.084312915802, 0.0852479934692, 0.0923049449921, 0.0870702266693, 0.0933880805969, 0.0885679721832, 0.0832870006561, 0.0930080413818, 0.0775179862976, 0.076700925827, 0.069216966629, 0.0762460231781\n"
     ]
    }
   ],
   "source": [
    "#Just checks that it recevies 100 packets from the Pi and then also receives and saves the timing data. \n",
    "\n",
    "import socket\n",
    "import import_ipynb\n",
    "from Encrypt_Decrypt_Functions import *\n",
    "\n",
    "message_number = 0\n",
    "\n",
    "UDP_IP = \"10.1.1.154\"\n",
    "UDP_PORT = 5005\n",
    "\n",
    "sock = socket.socket(socket.AF_INET, # Internet\n",
    "                    socket.SOCK_DGRAM) # UDP\n",
    "sock.bind((UDP_IP, UDP_PORT))\n",
    "\n",
    "print(\"Ready\")\n",
    "\n",
    "while (True):\n",
    "    data, addr = sock.recvfrom(12300)\n",
    "    if(len(data) == 123):\n",
    "        #Receiving encrypted vibration data\n",
    "        message_number = message_number + 1\n",
    "    else:\n",
    "        #Receiving timing data\n",
    "        times = data.decode('utf-8')\n",
    "        break      \n",
    "\n",
    "print(\"Received \", message_number, \" messages\")\n",
    "print(times)\n",
    "\n",
    "#Need to manually change filename depending on what experiment (which load) you're running. \n",
    "f = open(\"NoEncryption_Messaging_Load_Pi.txt\", \"x\")\n",
    "f.write(times)  \n",
    "f.close()\n",
    "    "
   ]
  },
  {
   "cell_type": "code",
   "execution_count": null,
   "metadata": {},
   "outputs": [],
   "source": []
  }
 ],
 "metadata": {
  "kernelspec": {
   "display_name": "Python 3",
   "language": "python",
   "name": "python3"
  },
  "language_info": {
   "codemirror_mode": {
    "name": "ipython",
    "version": 3
   },
   "file_extension": ".py",
   "mimetype": "text/x-python",
   "name": "python",
   "nbconvert_exporter": "python",
   "pygments_lexer": "ipython3",
   "version": "3.6.4"
  }
 },
 "nbformat": 4,
 "nbformat_minor": 2
}
