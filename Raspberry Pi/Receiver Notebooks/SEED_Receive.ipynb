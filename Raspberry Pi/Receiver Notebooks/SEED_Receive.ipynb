{
 "cells": [
  {
   "cell_type": "code",
   "execution_count": 5,
   "metadata": {},
   "outputs": [
    {
     "name": "stdout",
     "output_type": "stream",
     "text": [
      "Ready\n"
     ]
    },
    {
     "ename": "KeyboardInterrupt",
     "evalue": "",
     "output_type": "error",
     "traceback": [
      "\u001b[0;31m---------------------------------------------------------------------------\u001b[0m",
      "\u001b[0;31mKeyboardInterrupt\u001b[0m                         Traceback (most recent call last)",
      "\u001b[0;32m<ipython-input-5-7402ec7afe43>\u001b[0m in \u001b[0;36m<module>\u001b[0;34m()\u001b[0m\n\u001b[1;32m     25\u001b[0m \u001b[0;34m\u001b[0m\u001b[0m\n\u001b[1;32m     26\u001b[0m \u001b[0;32mwhile\u001b[0m \u001b[0;34m(\u001b[0m\u001b[0;32mTrue\u001b[0m\u001b[0;34m)\u001b[0m\u001b[0;34m:\u001b[0m\u001b[0;34m\u001b[0m\u001b[0m\n\u001b[0;32m---> 27\u001b[0;31m     \u001b[0mdata\u001b[0m\u001b[0;34m,\u001b[0m \u001b[0maddr\u001b[0m \u001b[0;34m=\u001b[0m \u001b[0msock\u001b[0m\u001b[0;34m.\u001b[0m\u001b[0mrecvfrom\u001b[0m\u001b[0;34m(\u001b[0m\u001b[0;36m12300\u001b[0m\u001b[0;34m)\u001b[0m\u001b[0;34m\u001b[0m\u001b[0m\n\u001b[0m\u001b[1;32m     28\u001b[0m     \u001b[0;32mif\u001b[0m\u001b[0;34m(\u001b[0m\u001b[0mlen\u001b[0m\u001b[0;34m(\u001b[0m\u001b[0mdata\u001b[0m\u001b[0;34m)\u001b[0m\u001b[0;34m==\u001b[0m\u001b[0;36m144\u001b[0m\u001b[0;34m)\u001b[0m\u001b[0;34m:\u001b[0m\u001b[0;34m\u001b[0m\u001b[0m\n\u001b[1;32m     29\u001b[0m         \u001b[0;31m#Ciphertexts\u001b[0m\u001b[0;34m\u001b[0m\u001b[0;34m\u001b[0m\u001b[0m\n",
      "\u001b[0;31mKeyboardInterrupt\u001b[0m: "
     ]
    }
   ],
   "source": [
    "#Receives encrypted data (messages) and saves in list, then receives the original \n",
    "#plaintexts and saves in list, then receives the timing data and saves in file. Finally, will check if encryption and \n",
    "#decryption was successful by decrypting the messages and checking if they are equal to the original plaintexts. \n",
    "\n",
    "import socket\n",
    "import import_ipynb\n",
    "from Encrypt_Decrypt_Functions import *\n",
    "from Key128 import key\n",
    "\n",
    "MessageList = []\n",
    "DecryptedList = []\n",
    "PlainTextList = []\n",
    "message_number = 0\n",
    "plaintext_number = 0\n",
    "\n",
    "UDP_IP = \"10.1.1.154\"\n",
    "UDP_PORT = 5005\n",
    "\n",
    "sock = socket.socket(socket.AF_INET, # Internet\n",
    "                    socket.SOCK_DGRAM) # UDP\n",
    "sock.bind((UDP_IP, UDP_PORT))\n",
    "\n",
    "print(\"Ready\")\n",
    "\n",
    "while (True):\n",
    "    data, addr = sock.recvfrom(12300)\n",
    "    if(len(data)==144):\n",
    "        #Ciphertexts\n",
    "        MessageList.append(data)\n",
    "        message_number = message_number + 1\n",
    "    elif(len(data)==123):\n",
    "        #Plaintexts\n",
    "        PlainTextList.append(data)\n",
    "        plaintext_number = plaintext_number + 1\n",
    "    else:\n",
    "        #Times\n",
    "        times = data.decode('utf-8')\n",
    "        break\n",
    "        \n",
    "print(\"Collected \" + str(message_number) + \" messages and \" + str(plaintext_number) + \" plaintexts\")\n",
    "\n",
    "for x in range(0, 100):\n",
    "    message = MessageList[x]\n",
    "    iv = message[:16]\n",
    "    ciphertext = message[16:]\n",
    "    decrypted_message = SEEDDecrypt(ciphertext, key, iv)\n",
    "    DecryptedList.append(decrypted_message)\n",
    "\n",
    "if(PlainTextList == DecryptedList):\n",
    "    print(\"Encryption/Decryption Successful\")\n",
    "\n",
    "else:\n",
    "    print(\"WARNING: Encryption/Decryption Unsuccessful!\")\n",
    "\n",
    "print(times)\n",
    "\n",
    "f = open(\"SEED_MessagingLoad_Pi.txt\", \"x\")\n",
    "f.write(times)\n",
    "f.close()\n",
    "    \n",
    "    "
   ]
  },
  {
   "cell_type": "code",
   "execution_count": null,
   "metadata": {},
   "outputs": [],
   "source": []
  },
  {
   "cell_type": "code",
   "execution_count": null,
   "metadata": {},
   "outputs": [],
   "source": []
  }
 ],
 "metadata": {
  "kernelspec": {
   "display_name": "Python 3",
   "language": "python",
   "name": "python3"
  },
  "language_info": {
   "codemirror_mode": {
    "name": "ipython",
    "version": 3
   },
   "file_extension": ".py",
   "mimetype": "text/x-python",
   "name": "python",
   "nbconvert_exporter": "python",
   "pygments_lexer": "ipython3",
   "version": "3.6.4"
  },
  "toc": {
   "base_numbering": 1,
   "nav_menu": {},
   "number_sections": true,
   "sideBar": true,
   "skip_h1_title": false,
   "title_cell": "Table of Contents",
   "title_sidebar": "Contents",
   "toc_cell": false,
   "toc_position": {},
   "toc_section_display": true,
   "toc_window_display": false
  }
 },
 "nbformat": 4,
 "nbformat_minor": 2
}
