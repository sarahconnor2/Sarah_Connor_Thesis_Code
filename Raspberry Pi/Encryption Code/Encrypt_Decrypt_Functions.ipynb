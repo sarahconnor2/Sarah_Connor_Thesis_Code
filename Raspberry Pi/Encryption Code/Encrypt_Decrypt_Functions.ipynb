{
 "cells": [
  {
   "cell_type": "markdown",
   "metadata": {},
   "source": [
    "# Encryption and Decryption Functions"
   ]
  },
  {
   "cell_type": "code",
   "execution_count": 1,
   "metadata": {},
   "outputs": [],
   "source": [
    "import os\n",
    "from cryptography.hazmat.primitives.ciphers import Cipher, algorithms, modes\n",
    "from cryptography.hazmat.backends import default_backend"
   ]
  },
  {
   "cell_type": "code",
   "execution_count": 2,
   "metadata": {},
   "outputs": [],
   "source": [
    "def pad(plaintext):\n",
    "    padded = bytearray(plaintext)\n",
    "    padded.append(1)\n",
    "    for x in range(0, 4):\n",
    "        padded.append(0)\n",
    "    return bytes(padded)"
   ]
  },
  {
   "cell_type": "markdown",
   "metadata": {},
   "source": [
    "### AES"
   ]
  },
  {
   "cell_type": "code",
   "execution_count": 3,
   "metadata": {},
   "outputs": [],
   "source": [
    "def AESEncrypt(plaintext, key, iv):\n",
    "    plaintext = pad(plaintext)\n",
    "    backend = default_backend()\n",
    "    cipher = Cipher(algorithms.AES(key), modes.CBC(iv), backend=backend)\n",
    "    encryptor = cipher.encryptor()\n",
    "    ciphertext = encryptor.update(plaintext) + encryptor.finalize()\n",
    "    return ciphertext\n",
    "\n",
    "def AESDecrypt(ciphertext, key, iv):\n",
    "    backend = default_backend()\n",
    "    cipher = Cipher(algorithms.AES(key), modes.CBC(iv), backend=backend)\n",
    "    decryptor = cipher.decryptor()\n",
    "    plaintext = decryptor.update(ciphertext) + decryptor.finalize()\n",
    "    plaintext = plaintext[0:123]\n",
    "    return plaintext"
   ]
  },
  {
   "cell_type": "markdown",
   "metadata": {},
   "source": [
    "### Camellia"
   ]
  },
  {
   "cell_type": "code",
   "execution_count": 4,
   "metadata": {},
   "outputs": [],
   "source": [
    "def CamelliaEncrypt(plaintext, key, iv):\n",
    "    plaintext = pad(plaintext)\n",
    "    backend = default_backend()\n",
    "    cipher = Cipher(algorithms.Camellia(key), modes.CBC(iv), backend=backend)\n",
    "    encryptor = cipher.encryptor()\n",
    "    ciphertext = encryptor.update(plaintext) + encryptor.finalize()\n",
    "    return ciphertext\n",
    "\n",
    "def CamelliaDecrypt(ciphertext, key, iv):\n",
    "    backend = default_backend()\n",
    "    cipher = Cipher(algorithms.Camellia(key), modes.CBC(iv), backend=backend)\n",
    "    decryptor = cipher.decryptor()\n",
    "    plaintext = decryptor.update(ciphertext) + decryptor.finalize()\n",
    "    plaintext = plaintext[0:123]\n",
    "    return plaintext"
   ]
  },
  {
   "cell_type": "markdown",
   "metadata": {},
   "source": [
    "### CAST5"
   ]
  },
  {
   "cell_type": "code",
   "execution_count": 5,
   "metadata": {},
   "outputs": [],
   "source": [
    "def CAST5Encrypt(plaintext, key, iv):\n",
    "    plaintext = pad(plaintext)\n",
    "    backend = default_backend()\n",
    "    cipher = Cipher(algorithms.CAST5(key), modes.CBC(iv), backend=backend)\n",
    "    encryptor = cipher.encryptor()\n",
    "    ciphertext = encryptor.update(plaintext) + encryptor.finalize()\n",
    "    return ciphertext\n",
    "\n",
    "def CAST5Decrypt(ciphertext, key, iv):\n",
    "    backend = default_backend()\n",
    "    cipher = Cipher(algorithms.CAST5(key), modes.CBC(iv), backend=backend)\n",
    "    decryptor = cipher.decryptor()\n",
    "    plaintext = decryptor.update(ciphertext) + decryptor.finalize()\n",
    "    plaintext = plaintext[0:123]\n",
    "    return plaintext"
   ]
  },
  {
   "cell_type": "markdown",
   "metadata": {},
   "source": [
    "### ChaCha"
   ]
  },
  {
   "cell_type": "code",
   "execution_count": 6,
   "metadata": {},
   "outputs": [],
   "source": [
    "def ChaChaEncrypt(plaintext, key, nonce):\n",
    "    algorithm = algorithms.ChaCha20(key, nonce)\n",
    "    cipher = Cipher(algorithm, mode=None, backend=default_backend())\n",
    "    encryptor = cipher.encryptor()\n",
    "    ciphertext = encryptor.update(plaintext)\n",
    "    return ciphertext\n",
    "    \n",
    "def ChaChaDecrypt(ciphertext, key, nonce):\n",
    "    algorithm = algorithms.ChaCha20(key, nonce)\n",
    "    cipher = Cipher(algorithm, mode=None, backend=default_backend())\n",
    "    decryptor = cipher.decryptor()\n",
    "    plaintext = decryptor.update(ciphertext)\n",
    "    return plaintext"
   ]
  },
  {
   "cell_type": "markdown",
   "metadata": {},
   "source": [
    "### SEED"
   ]
  },
  {
   "cell_type": "code",
   "execution_count": 7,
   "metadata": {},
   "outputs": [],
   "source": [
    "def SEEDEncrypt(plaintext, key, iv):\n",
    "    plaintext = pad(plaintext)\n",
    "    backend = default_backend()\n",
    "    cipher = Cipher(algorithms.SEED(key), modes.CBC(iv), backend=backend)\n",
    "    encryptor = cipher.encryptor()\n",
    "    ciphertext = encryptor.update(plaintext) + encryptor.finalize()\n",
    "    return ciphertext\n",
    "\n",
    "def SEEDDecrypt(ciphertext, key, iv):\n",
    "    backend = default_backend()\n",
    "    cipher = Cipher(algorithms.SEED(key), modes.CBC(iv), backend=backend)\n",
    "    decryptor = cipher.decryptor()\n",
    "    plaintext = decryptor.update(ciphertext) + decryptor.finalize()\n",
    "    plaintext = plaintext[0:123]\n",
    "    return plaintext"
   ]
  },
  {
   "cell_type": "markdown",
   "metadata": {},
   "source": [
    "### Tests\n"
   ]
  },
  {
   "cell_type": "code",
   "execution_count": 8,
   "metadata": {},
   "outputs": [
    {
     "name": "stdout",
     "output_type": "stream",
     "text": [
      "AES SUCCESS\n",
      "Camellia SUCCESS\n",
      "CAST5 SUCCESS\n",
      "ChaCha SUCCESS\n",
      "SEED SUCCESS\n"
     ]
    }
   ],
   "source": [
    "data = os.urandom(123)\n",
    "\n",
    "key128 = os.urandom(16)\n",
    "key256 = os.urandom(32)\n",
    "iv16 = os.urandom(16)\n",
    "iv8 = os.urandom(8)\n",
    "nonce = os.urandom(16)\n",
    "\n",
    "if(AESDecrypt(AESEncrypt(data,key128,iv16),key128,iv16) == data):\n",
    "    print(\"AES SUCCESS\")\n",
    "else:\n",
    "    print(\"AES FAIL\")\n",
    "\n",
    "if(CamelliaDecrypt(CamelliaEncrypt(data,key128,iv16),key128,iv16) == data):\n",
    "    print(\"Camellia SUCCESS\")\n",
    "else:\n",
    "    print(\"Camellia FAIL\")\n",
    "    \n",
    "if(CAST5Decrypt(CAST5Encrypt(data,key128,iv8),key128,iv8) == data):\n",
    "    print(\"CAST5 SUCCESS\")\n",
    "else:\n",
    "    print(\"CAST5 FAIL\")\n",
    "\n",
    "if(ChaChaDecrypt(ChaChaEncrypt(data,key256,nonce),key256,nonce) == data):\n",
    "    print(\"ChaCha SUCCESS\")\n",
    "else:\n",
    "    print(\"ChaCha FAIL\")\n",
    "    \n",
    "if(SEEDDecrypt(SEEDEncrypt(data,key128,iv16),key128,iv16) == data):\n",
    "    print(\"SEED SUCCESS\")\n",
    "else:\n",
    "    print(\"SEED FAIL\")\n"
   ]
  },
  {
   "cell_type": "code",
   "execution_count": null,
   "metadata": {},
   "outputs": [],
   "source": []
  }
 ],
 "metadata": {
  "kernelspec": {
   "display_name": "Python 3",
   "language": "python",
   "name": "python3"
  },
  "language_info": {
   "codemirror_mode": {
    "name": "ipython",
    "version": 3
   },
   "file_extension": ".py",
   "mimetype": "text/x-python",
   "name": "python",
   "nbconvert_exporter": "python",
   "pygments_lexer": "ipython3",
   "version": "3.6.4"
  },
  "toc": {
   "base_numbering": 1,
   "nav_menu": {},
   "number_sections": true,
   "sideBar": true,
   "skip_h1_title": false,
   "title_cell": "Table of Contents",
   "title_sidebar": "Contents",
   "toc_cell": false,
   "toc_position": {},
   "toc_section_display": true,
   "toc_window_display": false
  }
 },
 "nbformat": 4,
 "nbformat_minor": 2
}
